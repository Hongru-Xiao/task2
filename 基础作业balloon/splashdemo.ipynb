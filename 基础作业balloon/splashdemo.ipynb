{
 "cells": [
  {
   "cell_type": "code",
   "execution_count": null,
   "id": "c6a5f83d",
   "metadata": {},
   "outputs": [],
   "source": [
    "import mmcv\n",
    "from mmdet.apis import init_detector, inference_detector\n",
    "model = init_detector(config=\"work_dirs/maskrcnn/maskrcnn.py\", checkpoint=\"weight/masknew.pth\")\n",
    "v = mmcv.VideoReader(\"test/test_video.mp4\")\n",
    "v.cvt2frames(\"frame_dir/in\")"
   ]
  },
  {
   "cell_type": "code",
   "execution_count": null,
   "id": "746f1d19",
   "metadata": {},
   "outputs": [],
   "source": [
    "import numpy as np\n",
    "import os\n",
    "\n",
    "def pre_single_pic(img):\n",
    "    result = inference_detector(model, img)\n",
    "    bbox, segm = result\n",
    "    bbox = np.array(bbox[0]) # bbox 为列表\n",
    "#     print(bbox.shape) # (23, 5)\n",
    "    segm = np.array(segm[0])\n",
    "#     print(segm)\n",
    "#     print(segm.shape) # (23, 1024, 683)\n",
    "    score_thr = 0.75\n",
    "    balloon_cnt = bbox[bbox[:, -1] > score_thr].shape[0]\n",
    "    data = mmcv.imread(img)  # -> ndarray\n",
    "    tmp = data.copy()\n",
    "    # Gray = (Red * 0.3 + Green * 0.59 + Blue * 0.11)\n",
    "    # 'bgr'\n",
    "    data[:, :, 0] = data[:, :, 2] * 0.3 + data[:, :, 1] * 0.59 + data[:, :, 0] * 0.11\n",
    "    data[:, :, 1] = data[:, :, 0]\n",
    "    data[:, :, 2] = data[:, :, 0]\n",
    "    for balloon in segm[:balloon_cnt]:\n",
    "        data[balloon] = tmp[balloon]\n",
    "    return data\n",
    "\n",
    "\n"
   ]
  },
  {
   "cell_type": "code",
   "execution_count": null,
   "id": "7eed4d98",
   "metadata": {},
   "outputs": [],
   "source": [
    "file_path = \"/home/xiaohongru/pytorch_learn/mmdetection/frame_dir/in/\"\n",
    "result_path = \"/home/xiaohongru/pytorch_learn/mmdetection/frame_dir/result/\"\n",
    "if not os.path.exists(result_path):\n",
    "    os.makedirs(result_path)"
   ]
  },
  {
   "cell_type": "code",
   "execution_count": null,
   "id": "5fb356f2",
   "metadata": {},
   "outputs": [],
   "source": [
    "for root, dirs, files in os.walk(file_path, topdown=False):\n",
    "    for image_id in files:\n",
    "        filename = file_path + image_id\n",
    "        savename = result_path+image_id\n",
    "        data = pre_single_pic(filename) \n",
    "        mmcv.imwrite(data, savename)"
   ]
  },
  {
   "cell_type": "code",
   "execution_count": null,
   "id": "58dfdc17",
   "metadata": {},
   "outputs": [],
   "source": [
    "mmcv.frames2video(frame_dir=\"frame_dir/result\", video_file=\"outputnew.mp4\")"
   ]
  }
 ],
 "metadata": {
  "kernelspec": {
   "display_name": "Python [conda env:mmlab1] *",
   "language": "python",
   "name": "conda-env-mmlab1-py"
  },
  "language_info": {
   "codemirror_mode": {
    "name": "ipython",
    "version": 3
   },
   "file_extension": ".py",
   "mimetype": "text/x-python",
   "name": "python",
   "nbconvert_exporter": "python",
   "pygments_lexer": "ipython3",
   "version": "3.8.16"
  }
 },
 "nbformat": 4,
 "nbformat_minor": 5
}
